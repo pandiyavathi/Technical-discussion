{
  "nbformat": 4,
  "nbformat_minor": 0,
  "metadata": {
    "colab": {
      "name": "Untitled0.ipynb",
      "provenance": [],
      "authorship_tag": "ABX9TyNQVPClp3sgcr7Q7vo+Ilqg",
      "include_colab_link": true
    },
    "kernelspec": {
      "name": "python3",
      "display_name": "Python 3"
    },
    "language_info": {
      "name": "python"
    }
  },
  "cells": [
    {
      "cell_type": "markdown",
      "metadata": {
        "id": "view-in-github",
        "colab_type": "text"
      },
      "source": [
        "<a href=\"https://colab.research.google.com/github/pandiyavathi/Technical-discussion/blob/main/Untitled0.ipynb\" target=\"_parent\"><img src=\"https://colab.research.google.com/assets/colab-badge.svg\" alt=\"Open In Colab\"/></a>"
      ]
    },
    {
      "cell_type": "markdown",
      "source": [
        "First part"
      ],
      "metadata": {
        "id": "-Ggkq2vcGc0v"
      }
    },
    {
      "cell_type": "markdown",
      "source": [
        "# my first section"
      ],
      "metadata": {
        "id": "mxxu9lpaGnTM"
      }
    },
    {
      "cell_type": "code",
      "execution_count": 1,
      "metadata": {
        "colab": {
          "base_uri": "https://localhost:8080/"
        },
        "id": "KaZj-aT856OB",
        "outputId": "62908d41-b91c-44f7-c7f1-fefe1c32a015"
      },
      "outputs": [
        {
          "output_type": "stream",
          "name": "stdout",
          "text": [
            "hello world\n"
          ]
        }
      ],
      "source": [
        "print(\"hello world\")\n"
      ]
    },
    {
      "cell_type": "markdown",
      "source": [
        ""
      ],
      "metadata": {
        "id": "xivlnOudG5Bj"
      }
    },
    {
      "cell_type": "markdown",
      "source": [
        "# second section\n"
      ],
      "metadata": {
        "id": "jYK8-DSVG5qQ"
      }
    },
    {
      "cell_type": "code",
      "source": [
        "def hello():\n",
        "    return \"hi\"\n",
        "hello()"
      ],
      "metadata": {
        "colab": {
          "base_uri": "https://localhost:8080/",
          "height": 36
        },
        "id": "LOfAfq4qGO34",
        "outputId": "1bee64b7-fc82-4fd2-c85e-bacf7e2accd4"
      },
      "execution_count": 2,
      "outputs": [
        {
          "output_type": "execute_result",
          "data": {
            "application/vnd.google.colaboratory.intrinsic+json": {
              "type": "string"
            },
            "text/plain": [
              "'hi'"
            ]
          },
          "metadata": {},
          "execution_count": 2
        }
      ]
    },
    {
      "cell_type": "markdown",
      "source": [
        "# This is my technical discussion\n",
        "## This is my second heading\n",
        "###### This is my third heading"
      ],
      "metadata": {
        "id": "PDXXmDBwGP1b"
      }
    }
  ]
}